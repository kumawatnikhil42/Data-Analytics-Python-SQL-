{
 "cells": [
  {
   "cell_type": "code",
   "execution_count": 53,
   "id": "1d84adbd",
   "metadata": {},
   "outputs": [
    {
     "name": "stdout",
     "output_type": "stream",
     "text": [
      "not valid\n"
     ]
    }
   ],
   "source": [
    "s=\"()]\"\n",
    "\n",
    "l=[]\n",
    "for i in s:\n",
    "    if i == \"(\" or i == \"[\" or i == \"{\":\n",
    "        l.append(i)\n",
    "    elif i in [\")\",\"]\",\"}\"]:\n",
    "        if len(l)==0:\n",
    "            l.append(1)\n",
    "            break\n",
    "        if i == \")\" and l[-1]==\"(\":\n",
    "            l.pop()\n",
    "        elif i == \"]\" and l[-1]==\"[\":\n",
    "            l.pop()\n",
    "        elif i == \"}\" and l[-1]==\"{\":\n",
    "            l.pop()\n",
    "if l:\n",
    "    print(\"not valid\")\n",
    "else:\n",
    "    print(\"valid\")"
   ]
  },
  {
   "cell_type": "code",
   "execution_count": 79,
   "id": "22d11c09",
   "metadata": {},
   "outputs": [
    {
     "name": "stdout",
     "output_type": "stream",
     "text": [
      "ishAAN\n"
     ]
    }
   ],
   "source": [
    "k=\"ishaan\"\n",
    "l=\"\"\n",
    "t=\"\"\n",
    "n=len(k)//2\n",
    "end=len(k)\n",
    "i=0\n",
    "while i<n and n<end:\n",
    "    l+=k[i]\n",
    "    t+=k[n].upper()\n",
    "    \n",
    "    i+=1\n",
    "    n+=1\n",
    "j=l+t\n",
    "print(j)"
   ]
  },
  {
   "cell_type": "code",
   "execution_count": 82,
   "id": "d0e227a3",
   "metadata": {},
   "outputs": [
    {
     "data": {
      "text/plain": [
       "'hello user hey'"
      ]
     },
     "execution_count": 82,
     "metadata": {},
     "output_type": "execute_result"
    }
   ],
   "source": [
    "s=\"hey hello hey user\"\n",
    "\n",
    "k=set()\n",
    "l=s.split()\n",
    "for i in l:\n",
    "    k.add(i)\n",
    "\" \".join(k)"
   ]
  },
  {
   "cell_type": "code",
   "execution_count": 83,
   "id": "804aba71",
   "metadata": {},
   "outputs": [
    {
     "data": {
      "text/plain": [
       "'hey hello user'"
      ]
     },
     "execution_count": 83,
     "metadata": {},
     "output_type": "execute_result"
    }
   ],
   "source": [
    "s=\"hey hello hey user\"\n",
    "\n",
    "k=[]\n",
    "l=s.split()\n",
    "for i in l:\n",
    "    if i in k:\n",
    "        continue\n",
    "    else:\n",
    "        k.append(i)\n",
    "\" \".join(k)"
   ]
  },
  {
   "cell_type": "code",
   "execution_count": 93,
   "id": "7f001369",
   "metadata": {},
   "outputs": [
    {
     "name": "stdout",
     "output_type": "stream",
     "text": [
      "2\n"
     ]
    }
   ],
   "source": [
    "s1=\"hey125p\"\n",
    "s2=\"yashy\"\n",
    "l=[]\n",
    "k=0\n",
    "for i in s1:\n",
    "    if i in s2:\n",
    "        if i not in l:\n",
    "            l.append(1)\n",
    "print(len(l))\n",
    "\n"
   ]
  },
  {
   "cell_type": "code",
   "execution_count": null,
   "id": "62b00ac1",
   "metadata": {},
   "outputs": [],
   "source": []
  }
 ],
 "metadata": {
  "kernelspec": {
   "display_name": "Python 3 (ipykernel)",
   "language": "python",
   "name": "python3"
  },
  "language_info": {
   "codemirror_mode": {
    "name": "ipython",
    "version": 3
   },
   "file_extension": ".py",
   "mimetype": "text/x-python",
   "name": "python",
   "nbconvert_exporter": "python",
   "pygments_lexer": "ipython3",
   "version": "3.11.5"
  }
 },
 "nbformat": 4,
 "nbformat_minor": 5
}
