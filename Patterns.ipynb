{
 "cells": [
  {
   "cell_type": "code",
   "execution_count": 5,
   "id": "01e29ee6",
   "metadata": {},
   "outputs": [
    {
     "name": "stdout",
     "output_type": "stream",
     "text": [
      "hey\n",
      "abc\n",
      "abc\n",
      "abc\n",
      "hey\n",
      "abc\n",
      "abc\n",
      "abc\n",
      "hey\n",
      "abc\n",
      "abc\n",
      "abc\n",
      "hey\n",
      "abc\n",
      "abc\n",
      "abc\n"
     ]
    }
   ],
   "source": [
    "# nested loop\n",
    "for i in range(1,5):\n",
    "    print(\"hey\")\n",
    "    for j in range(10,13):\n",
    "        print(\"abc\")"
   ]
  },
  {
   "cell_type": "code",
   "execution_count": 18,
   "id": "d4078aa5",
   "metadata": {},
   "outputs": [
    {
     "name": "stdout",
     "output_type": "stream",
     "text": [
      "*\n",
      "**\n",
      "***\n",
      "****\n"
     ]
    }
   ],
   "source": [
    "for i in range(1,5):\n",
    "    for j in range(1,i+1):\n",
    "        print(\"*\",end=\"\")\n",
    "    print(\"\")"
   ]
  },
  {
   "cell_type": "code",
   "execution_count": 22,
   "id": "208022ba",
   "metadata": {},
   "outputs": [
    {
     "name": "stdout",
     "output_type": "stream",
     "text": [
      "****\n",
      "***\n",
      "**\n",
      "*\n"
     ]
    }
   ],
   "source": [
    "for i in range(1,5):\n",
    "    for j in range(4,i-1,-1):\n",
    "        print(\"*\",end=\"\")\n",
    "    print(\"\")"
   ]
  },
  {
   "cell_type": "code",
   "execution_count": 28,
   "id": "47fa6988",
   "metadata": {},
   "outputs": [
    {
     "name": "stdout",
     "output_type": "stream",
     "text": [
      "54321\n",
      "5432\n",
      "543\n",
      "54\n",
      "5\n"
     ]
    }
   ],
   "source": [
    "for i in range(1,6):\n",
    "    for j in range(5,i-1,-1):\n",
    "        print(j,end=\"\")\n",
    "    print(\"\")"
   ]
  },
  {
   "cell_type": "code",
   "execution_count": 45,
   "id": "9706168f",
   "metadata": {},
   "outputs": [
    {
     "name": "stdout",
     "output_type": "stream",
     "text": [
      "12345\n",
      "1234\n",
      "123\n",
      "12\n",
      "1\n"
     ]
    }
   ],
   "source": [
    "for i in range(1,6):\n",
    "    k=1\n",
    "    for j in range(6,i,-1):\n",
    "        print(k,end=\"\")\n",
    "        k+=1\n",
    "    print(\"\")"
   ]
  },
  {
   "cell_type": "code",
   "execution_count": 43,
   "id": "0283f87a",
   "metadata": {},
   "outputs": [
    {
     "name": "stdout",
     "output_type": "stream",
     "text": [
      "   *\n",
      "  **\n",
      " ***\n",
      "****\n"
     ]
    }
   ],
   "source": [
    "for i in range(1,5):\n",
    "    for s in range(4,i,-1):\n",
    "        print(\" \",end=\"\")\n",
    "    for j in range(1,i+1):\n",
    "        print(\"*\",end=\"\")\n",
    "\n",
    "    print(\"\")"
   ]
  },
  {
   "cell_type": "code",
   "execution_count": 52,
   "id": "3553dc64",
   "metadata": {},
   "outputs": [
    {
     "name": "stdout",
     "output_type": "stream",
     "text": [
      "*****\n",
      " ****\n",
      "  ***\n",
      "   **\n",
      "    *\n"
     ]
    }
   ],
   "source": [
    "for i in range(1,6):\n",
    "    for s in range(2,i+1):\n",
    "        print(\" \",end=\"\")\n",
    "    for j in range(6,i,-1):\n",
    "        print(\"*\",end=\"\")\n",
    "\n",
    "    print(\"\")"
   ]
  },
  {
   "cell_type": "code",
   "execution_count": 66,
   "id": "78f0df3f",
   "metadata": {},
   "outputs": [
    {
     "name": "stdout",
     "output_type": "stream",
     "text": [
      "1011121314\n",
      "  15161718\n",
      "    192021\n",
      "      2223\n",
      "        24\n"
     ]
    }
   ],
   "source": [
    "k=10\n",
    "for i in range(1,6):\n",
    "    \n",
    "    for s in range(2,i+1):\n",
    "        print(\" \",end=\" \")\n",
    "    for j in range(6,i,-1):\n",
    "        print(k,end=\"\")\n",
    "        k+=1\n",
    "\n",
    "    print(\"\")"
   ]
  },
  {
   "cell_type": "code",
   "execution_count": 75,
   "id": "3b3d9ec9",
   "metadata": {},
   "outputs": [
    {
     "name": "stdout",
     "output_type": "stream",
     "text": [
      "  *\n",
      " ***\n",
      "*****\n"
     ]
    }
   ],
   "source": [
    "for i in range(1,4):\n",
    "    for s in range(3,i,-1):\n",
    "        print(\" \",end=\"\")\n",
    "    for j in range(1,2*i):\n",
    "        print(\"*\",end=\"\")\n",
    "    \n",
    "\n",
    "    print(\"\")"
   ]
  },
  {
   "cell_type": "code",
   "execution_count": 99,
   "id": "6e2a2b88",
   "metadata": {},
   "outputs": [
    {
     "name": "stdout",
     "output_type": "stream",
     "text": [
      "   * \n",
      "  * * \n",
      " * * * \n",
      "* * * * \n"
     ]
    }
   ],
   "source": [
    "for i in range(1,5):\n",
    "    for s in range(4,i,-1):\n",
    "        print(\" \",end=\"\")\n",
    "    for j in range(1,i+1):\n",
    "        print(\"*\",end=\" \")\n",
    "    \n",
    "\n",
    "    print(\"\")"
   ]
  },
  {
   "cell_type": "code",
   "execution_count": 97,
   "id": "430807da",
   "metadata": {},
   "outputs": [
    {
     "name": "stdout",
     "output_type": "stream",
     "text": [
      " *****\n",
      "  ***\n",
      "   *\n"
     ]
    }
   ],
   "source": [
    "for i in range(1,4):\n",
    "    for s in range(1,i+1):\n",
    "        print(\" \",end=\"\")\n",
    "    for j in range(6,2*i-1,-1):\n",
    "        print(\"*\",end=\"\")\n",
    "    print(\"\")"
   ]
  },
  {
   "cell_type": "code",
   "execution_count": 105,
   "id": "fe1f69ce",
   "metadata": {},
   "outputs": [
    {
     "name": "stdout",
     "output_type": "stream",
     "text": [
      "*****\n",
      "**** \n",
      "***  \n",
      "**   \n",
      "*    \n",
      "**\n",
      "***\n",
      "****\n",
      "*****\n"
     ]
    }
   ],
   "source": [
    "for i in range(1,6):\n",
    "    for j in range(6,i,-1):\n",
    "        print(\"*\",end=\"\")\n",
    "    for s in range(2,i+1):\n",
    "        print(\" \",end=\"\")\n",
    "\n",
    "    print(\"\")\n",
    "for i in range(2,6):\n",
    "    for j in range(1,i+1):\n",
    "        print(\"*\",end=\"\")\n",
    "    print(\"\")"
   ]
  },
  {
   "cell_type": "code",
   "execution_count": 142,
   "id": "c97a5766",
   "metadata": {},
   "outputs": [
    {
     "name": "stdout",
     "output_type": "stream",
     "text": [
      "*\n",
      "**\n",
      "* *\n",
      "*  *\n",
      "*****\n"
     ]
    }
   ],
   "source": [
    "for i in range(1,6):\n",
    "    for j in range(1,i+1):\n",
    "        if i==j or i==5 or j==1:\n",
    "            print(\"*\",end=\"\")\n",
    "        else:\n",
    "            print(\" \",end=\"\")\n",
    "    print(\"\")"
   ]
  },
  {
   "cell_type": "code",
   "execution_count": 198,
   "id": "4f152f56",
   "metadata": {},
   "outputs": [
    {
     "name": "stdout",
     "output_type": "stream",
     "text": [
      " * * * * * \n",
      "  *     * \n",
      "   *   * \n",
      "    * * \n",
      "     * \n"
     ]
    }
   ],
   "source": [
    "for i in range(1,6):\n",
    "    for s in range(1,i+1):\n",
    "        print(\" \",end=\"\")\n",
    "    for j in range(5,i-1,-1):\n",
    "        if i==5 or i==1 or j==5 or i==j:\n",
    "            print(\"*\",end=\" \")\n",
    "        else:\n",
    "            print(\" \",end=\" \")\n",
    "\n",
    "    print(\"\")"
   ]
  },
  {
   "cell_type": "code",
   "execution_count": null,
   "id": "1c31edf9",
   "metadata": {},
   "outputs": [],
   "source": []
  }
 ],
 "metadata": {
  "kernelspec": {
   "display_name": "Python 3 (ipykernel)",
   "language": "python",
   "name": "python3"
  },
  "language_info": {
   "codemirror_mode": {
    "name": "ipython",
    "version": 3
   },
   "file_extension": ".py",
   "mimetype": "text/x-python",
   "name": "python",
   "nbconvert_exporter": "python",
   "pygments_lexer": "ipython3",
   "version": "3.11.5"
  }
 },
 "nbformat": 4,
 "nbformat_minor": 5
}
