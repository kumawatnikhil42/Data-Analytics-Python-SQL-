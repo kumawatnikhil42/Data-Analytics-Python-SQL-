{
 "cells": [
  {
   "cell_type": "code",
   "execution_count": 11,
   "id": "b0af228f",
   "metadata": {},
   "outputs": [
    {
     "name": "stdout",
     "output_type": "stream",
     "text": [
      "4\n",
      "12 12 4 5\n",
      "4\n",
      "12 12\n",
      "12 12\n",
      "12 12\n",
      "12 12\n",
      "24\n"
     ]
    }
   ],
   "source": [
    "ns=int(input())\n",
    "n=list(map(int,input().split()))\n",
    "nc=int(input())\n",
    "t=0\n",
    "for i in range(0,nc):\n",
    "    size,price=map(int,input().split())\n",
    "    if size in n:\n",
    "        n.remove(size)\n",
    "        t+=price\n",
    "print(t)\n"
   ]
  },
  {
   "cell_type": "code",
   "execution_count": 23,
   "id": "1bddce38",
   "metadata": {},
   "outputs": [
    {
     "name": "stdout",
     "output_type": "stream",
     "text": [
      "True\n"
     ]
    }
   ],
   "source": [
    "s = \"anagram\"\n",
    "t = \"nagaram\"\n",
    "s1={}\n",
    "t1={}\n",
    "if len(s)==len(t):\n",
    "    for i in s:\n",
    "        if i not in s1:\n",
    "            s1[i]=1\n",
    "        else:\n",
    "            s1[i]+=1\n",
    "    for j in t:\n",
    "        if j not in t1:\n",
    "            t1[j]=1\n",
    "        else:\n",
    "            t1[j]+=1\n",
    "    if s1==t1:\n",
    "        print(True)\n",
    "    else:\n",
    "        print(False)\n",
    "else:\n",
    "    print(False)\n",
    "       "
   ]
  },
  {
   "cell_type": "code",
   "execution_count": 28,
   "id": "a6c281ff",
   "metadata": {},
   "outputs": [
    {
     "name": "stdout",
     "output_type": "stream",
     "text": [
      "['o', 'l', 'l', 'e', 'h']\n"
     ]
    }
   ],
   "source": [
    "s = [\"h\",\"e\",\"l\",\"l\",\"o\"]\n",
    "t=[]\n",
    "for i in range(len(s)-1,-1,-1):\n",
    "    t.append(s[i])\n",
    "print(t)"
   ]
  },
  {
   "cell_type": "code",
   "execution_count": 35,
   "id": "65cc128c",
   "metadata": {},
   "outputs": [
    {
     "name": "stdout",
     "output_type": "stream",
     "text": [
      "['o', 'l', 'l', 'e', 'h']\n"
     ]
    }
   ],
   "source": [
    "s = [\"h\",\"e\",\"l\",\"l\",\"o\"]\n",
    "t=[]\n",
    "i=0\n",
    "end=len(s)-1\n",
    "while i<=end:\n",
    "    t.append(s[end])\n",
    "    end-=1\n",
    "    \n",
    "print(t)"
   ]
  },
  {
   "cell_type": "code",
   "execution_count": 39,
   "id": "bec8df9a",
   "metadata": {},
   "outputs": [
    {
     "name": "stdout",
     "output_type": "stream",
     "text": [
      "['o', 'l', 'l', 'e', 'h']\n"
     ]
    }
   ],
   "source": [
    "s = [\"s\",\"a\",\"r\",\"a\",\"s\"]\n",
    "i=0\n",
    "end=len(s)-1\n",
    "while i<=end:\n",
    "    s[i],s[end]=s[end],s[i]\n",
    "    end-=1\n",
    "    i+=1\n",
    "print(s)"
   ]
  },
  {
   "cell_type": "code",
   "execution_count": 56,
   "id": "12ed1468",
   "metadata": {},
   "outputs": [
    {
     "name": "stdout",
     "output_type": "stream",
     "text": [
      "True\n"
     ]
    }
   ],
   "source": [
    "x = 121\n",
    "num=0\n",
    "r=0\n",
    "temp=x\n",
    "while x>0:\n",
    "    num=x%10\n",
    "    r=r*10+num\n",
    "    x=x//10\n",
    "\n",
    "if temp==r:\n",
    "    print(True)\n",
    "\n",
    "else:\n",
    "    print(False)\n",
    "    "
   ]
  },
  {
   "cell_type": "code",
   "execution_count": 61,
   "id": "9355c7eb",
   "metadata": {},
   "outputs": [
    {
     "data": {
      "text/plain": [
       "1"
      ]
     },
     "execution_count": 61,
     "metadata": {},
     "output_type": "execute_result"
    }
   ],
   "source": [
    "a=1\n",
    "b=1\n",
    "\n",
    "2^3\n"
   ]
  },
  {
   "cell_type": "code",
   "execution_count": null,
   "id": "f337cab7",
   "metadata": {},
   "outputs": [],
   "source": []
  }
 ],
 "metadata": {
  "kernelspec": {
   "display_name": "Python 3 (ipykernel)",
   "language": "python",
   "name": "python3"
  },
  "language_info": {
   "codemirror_mode": {
    "name": "ipython",
    "version": 3
   },
   "file_extension": ".py",
   "mimetype": "text/x-python",
   "name": "python",
   "nbconvert_exporter": "python",
   "pygments_lexer": "ipython3",
   "version": "3.11.5"
  }
 },
 "nbformat": 4,
 "nbformat_minor": 5
}
