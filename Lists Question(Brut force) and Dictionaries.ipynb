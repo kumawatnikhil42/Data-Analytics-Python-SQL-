{
 "cells": [
  {
   "cell_type": "code",
   "execution_count": 33,
   "id": "0ff035e2",
   "metadata": {},
   "outputs": [
    {
     "data": {
      "text/plain": [
       "50"
      ]
     },
     "execution_count": 33,
     "metadata": {},
     "output_type": "execute_result"
    }
   ],
   "source": [
    "l=[10,20,300,50,300]\n",
    "lmax=smax=0\n",
    "for i in l:\n",
    "    if i>lmax:\n",
    "        smax=lmax\n",
    "        lmax=i\n",
    "    elif i>smax and i!=lmax:\n",
    "        smax=i\n",
    "        \n",
    "smax"
   ]
  },
  {
   "cell_type": "code",
   "execution_count": 56,
   "id": "7f1471d1",
   "metadata": {},
   "outputs": [
    {
     "data": {
      "text/plain": [
       "5"
      ]
     },
     "execution_count": 56,
     "metadata": {},
     "output_type": "execute_result"
    }
   ],
   "source": [
    "l=[12,10,3,5,3,20]\n",
    "lmin=l[0]\n",
    "smin=l[1]\n",
    "for i in l:\n",
    "    if i<lmin:\n",
    "        smin=lmin\n",
    "        lmin=i  \n",
    "    elif i<smin and i!=lmin:\n",
    "        smin=i\n",
    "smin"
   ]
  },
  {
   "cell_type": "markdown",
   "id": "769f5559",
   "metadata": {},
   "source": [
    "# Question:\n",
    "Q. Find max,smax,min,smin?\n",
    "\n",
    "Q. Run a program to find out nth max?"
   ]
  },
  {
   "cell_type": "markdown",
   "id": "ca3d1ad0",
   "metadata": {},
   "source": [
    "# Dictionary:"
   ]
  },
  {
   "cell_type": "code",
   "execution_count": 100,
   "id": "720778f8",
   "metadata": {},
   "outputs": [
    {
     "data": {
      "text/plain": [
       "{10: 2, 20: 1, 30: 2}"
      ]
     },
     "execution_count": 100,
     "metadata": {},
     "output_type": "execute_result"
    }
   ],
   "source": [
    "l=[10,20,30,10,30]\n",
    "mydict={}\n",
    "for i in range(0,len(l)):\n",
    "    c=1\n",
    "    for j in range(i+1,len(l)):\n",
    "        if l[i] not in mydict:\n",
    "            mydict[l[i]]=1\n",
    "        elif l[i]==l[j]:\n",
    "            c+=1\n",
    "            mydict[l[i]]=c\n",
    "mydict"
   ]
  },
  {
   "cell_type": "code",
   "execution_count": 147,
   "id": "fc42428a",
   "metadata": {},
   "outputs": [
    {
     "name": "stdout",
     "output_type": "stream",
     "text": [
      "zyx\n"
     ]
    },
    {
     "data": {
      "text/plain": [
       "'zyxwvutsrqponmlkjihgfedcba'"
      ]
     },
     "execution_count": 147,
     "metadata": {},
     "output_type": "execute_result"
    }
   ],
   "source": [
    "l=\"abcdefghijklmnopqrstuvwxyz\"\n",
    "l2=l[::-1]\n",
    "a=\"abc\"\n",
    "c=\"\"\n",
    "for i in a:\n",
    "    k=ord(i)-97\n",
    "    c+=l2[k]\n",
    "print(c)\n",
    "l2"
   ]
  },
  {
   "cell_type": "code",
   "execution_count": null,
   "id": "5c3e792a",
   "metadata": {},
   "outputs": [],
   "source": []
  }
 ],
 "metadata": {
  "kernelspec": {
   "display_name": "Python 3 (ipykernel)",
   "language": "python",
   "name": "python3"
  },
  "language_info": {
   "codemirror_mode": {
    "name": "ipython",
    "version": 3
   },
   "file_extension": ".py",
   "mimetype": "text/x-python",
   "name": "python",
   "nbconvert_exporter": "python",
   "pygments_lexer": "ipython3",
   "version": "3.11.5"
  }
 },
 "nbformat": 4,
 "nbformat_minor": 5
}
