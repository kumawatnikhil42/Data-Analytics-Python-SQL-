{
 "cells": [
  {
   "cell_type": "code",
   "execution_count": 6,
   "id": "1529b718",
   "metadata": {},
   "outputs": [
    {
     "name": "stdout",
     "output_type": "stream",
     "text": [
      "['ABC']\n",
      "[10, 20, 30, 40, 50]\n"
     ]
    }
   ],
   "source": [
    "l=[10,20,30,40,50,\"ABC\"]\n",
    "k=[]\n",
    "for i in l:\n",
    "    if type(i)==str:\n",
    "        k.append(i)\n",
    "        l.remove(i)\n",
    "print(k)\n",
    "print(l)\n"
   ]
  },
  {
   "cell_type": "code",
   "execution_count": 19,
   "id": "3cc77c2c",
   "metadata": {},
   "outputs": [
    {
     "name": "stdout",
     "output_type": "stream",
     "text": [
      "[60, 50, 40, 30, 20, 10]\n"
     ]
    }
   ],
   "source": [
    "li=[10, 20, 30, 40, 50,60]\n",
    "start=0\n",
    "right=len(li)-1\n",
    "while (start<right):\n",
    "    temp=li[start]\n",
    "    li[start]=li[right]\n",
    "    li[right]=temp\n",
    "    start+=1\n",
    "    right-=1\n",
    "print(li)"
   ]
  },
  {
   "cell_type": "code",
   "execution_count": 36,
   "id": "dd1f011f",
   "metadata": {},
   "outputs": [
    {
     "name": "stdout",
     "output_type": "stream",
     "text": [
      "[50, 40, 30, 20, 10]\n"
     ]
    }
   ],
   "source": [
    "li=[10, 20, 30, 40, 50]\n",
    "i=0\n",
    "right=len(li)-1\n",
    "mid=len(li)//2\n",
    "while (i<mid):\n",
    "    temp=li[i]\n",
    "    li[i]=li[right-i]\n",
    "    li[right-i]=temp\n",
    "    i+=1\n",
    "print(li)"
   ]
  },
  {
   "cell_type": "code",
   "execution_count": 68,
   "id": "24d62052",
   "metadata": {},
   "outputs": [
    {
     "name": "stdout",
     "output_type": "stream",
     "text": [
      "Pallindrome\n"
     ]
    }
   ],
   "source": [
    "k=\"saras\"\n",
    "i=0\n",
    "right=len(k)-1\n",
    "flag=True\n",
    "while i<right:\n",
    "    if k[i]!=k[right-i]:\n",
    "        flag=False\n",
    "        break\n",
    "    i+=1\n",
    "if flag:\n",
    "    print(\"Pallindrome\")\n",
    "else:\n",
    "    print(\"Not Pallindrome\")"
   ]
  },
  {
   "cell_type": "code",
   "execution_count": 75,
   "id": "e7b00394",
   "metadata": {},
   "outputs": [
    {
     "name": "stdout",
     "output_type": "stream",
     "text": [
      "-2\n"
     ]
    }
   ],
   "source": [
    "l=[2,7,9,10,-1,0,-2,4,5]\n",
    "i=0\n",
    "mini=l[i]\n",
    "end=len(l)-1\n",
    "while i<end:\n",
    "    if mini>l[i+1]:\n",
    "        mini=l[i+1]\n",
    "    i+=1\n",
    "print(mini)"
   ]
  },
  {
   "cell_type": "code",
   "execution_count": null,
   "id": "cffc1bd5",
   "metadata": {},
   "outputs": [],
   "source": []
  }
 ],
 "metadata": {
  "kernelspec": {
   "display_name": "Python 3 (ipykernel)",
   "language": "python",
   "name": "python3"
  },
  "language_info": {
   "codemirror_mode": {
    "name": "ipython",
    "version": 3
   },
   "file_extension": ".py",
   "mimetype": "text/x-python",
   "name": "python",
   "nbconvert_exporter": "python",
   "pygments_lexer": "ipython3",
   "version": "3.11.5"
  }
 },
 "nbformat": 4,
 "nbformat_minor": 5
}
